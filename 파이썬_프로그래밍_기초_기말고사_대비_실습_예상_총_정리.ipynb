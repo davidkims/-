{
  "nbformat": 4,
  "nbformat_minor": 0,
  "metadata": {
    "colab": {
      "provenance": [],
      "authorship_tag": "ABX9TyMb/kg1DISA4wqnCvzzjcXP",
      "include_colab_link": true
    },
    "kernelspec": {
      "name": "python3",
      "display_name": "Python 3"
    },
    "language_info": {
      "name": "python"
    }
  },
  "cells": [
    {
      "cell_type": "markdown",
      "metadata": {
        "id": "view-in-github",
        "colab_type": "text"
      },
      "source": [
        "<a href=\"https://colab.research.google.com/github/davidkims/-/blob/main/%ED%8C%8C%EC%9D%B4%EC%8D%AC_%ED%94%84%EB%A1%9C%EA%B7%B8%EB%9E%98%EB%B0%8D_%EA%B8%B0%EC%B4%88_%EA%B8%B0%EB%A7%90%EA%B3%A0%EC%82%AC_%EB%8C%80%EB%B9%84_%EC%8B%A4%EC%8A%B5_%EC%98%88%EC%83%81_%EC%B4%9D_%EC%A0%95%EB%A6%AC.ipynb\" target=\"_parent\"><img src=\"https://colab.research.google.com/assets/colab-badge.svg\" alt=\"Open In Colab\"/></a>"
      ]
    },
    {
      "cell_type": "markdown",
      "source": [
        "주어진 코드 print(\"Hello World!\")는 파이썬에서 \"Hello World!\"라는 문자열을 출력하는 코드입니다. 코드를 설명해드리겠습니다.\n",
        "\n",
        "print(): 파이썬의 내장 함수인 print() 함수는 괄호 안에 있는 값을 화면에 출력하는 역할을 합니다.\n",
        "\"Hello World!\": 큰 따옴표로 둘러싸인 \"Hello World!\"라는 문자열을 나타냅니다. 문자열은 텍스트 데이터를 나타내는데 사용됩니다.\n",
        "print(\"Hello World!\"): 위의 코드는 print() 함수를 사용하여 \"Hello World!\"라는 문자열을 출력하는 기능을 수행합니다.\n",
        "따라서 위의 코드를 실행하면 \"Hello World!\"라는 문자열이 화면에 출력됩니다. print() 함수는 괄호 안에 있는 값을 화면에 표시하므로, 코드를 실행하면 \"Hello World!\"라는 문자열이 출력됩니다. 이는 많은 프로그래밍 언어에서 기본적으로 사용되는 첫 번째 프로그램인 \"Hello World!\"를 출력하는 예제입니다."
      ],
      "metadata": {
        "id": "Yi6yEFwq-8hI"
      }
    },
    {
      "cell_type": "code",
      "source": [
        "print(\"Hello World!\")"
      ],
      "metadata": {
        "colab": {
          "base_uri": "https://localhost:8080/"
        },
        "id": "0U6Up41K8cIO",
        "outputId": "091739bb-b796-4f0d-a601-8d507c0fdf76"
      },
      "execution_count": 1,
      "outputs": [
        {
          "output_type": "stream",
          "name": "stdout",
          "text": [
            "Hello World!\n"
          ]
        }
      ]
    },
    {
      "cell_type": "markdown",
      "source": [
        "주어진 코드는 원뿔의 부피와 겉넓이를 계산하는 부분입니다. 코드를 설명해드리겠습니다.\n",
        "\n",
        "원뿔의 부피 계산:\n",
        "1 / 3 * 3.14 * 20 ** 2 * 30\n",
        "\n",
        "원뿔의 부피를 계산하는 공식은 (1/3) * π * r^2 * h입니다. 코드에서는 이 공식을 사용하여 부피를 계산하고 있습니다. 각 부분을 설명해보겠습니다:\n",
        "\n",
        "1 / 3: 부피를 계산하는 공식에서 1/3을 나타냅니다.\n",
        "3.14: π(파이) 값을 나타냅니다. 파이는 원의 둘레와 지름 사이의 비율로 약 3.14의 값을 가집니다.\n",
        "20 ** 2: 반지름을 제곱하여 원의 넓이를 계산합니다. 20을 제곱하는 것을 의미합니다.\n",
        "30: 원뿔의 높이를 나타냅니다.\n",
        "따라서 위의 계산식은 원뿔의 부피를 계산하는 식으로, 결과를 출력하면 됩니다.\n",
        "\n",
        "원뿔의 겉넓이 계산:\n",
        "3.14 * 20 ** 2 + 3.14 * 20 * 30\n",
        "\n",
        "원뿔의 겉넓이를 계산하는 공식은 π * r * (r + √(r^2 + h^2))입니다. 코드에서는 이 공식을 사용하여 겉넓이를 계산하고 있습니다. 각 부분을 설명해보겠습니다:\n",
        "\n",
        "3.14: π(파이) 값을 나타냅니다.\n",
        "20 ** 2: 반지름을 제곱하여 원의 넓이를 계산합니다. 20을 제곱하는 것을 의미합니다.\n",
        "20: 반지름의 길이를 나타냅니다.\n",
        "30: 원뿔의 높이를 나타냅니다.\n",
        "따라서 위의 계산식은 원뿔의 겉넓이를 계산하는 식으로, 결과를 출력하면 됩니다.\n",
        "\n",
        "코드에서는 계산식을 사용하여 부피와 겉넓이를 계산하고, print() 함수를 사용하여 계산 결과를 출력합니다. 이를 실행하면 원뿔의 부피와 겉넓이가 계산되어 출력됩니다."
      ],
      "metadata": {
        "id": "scNJyt9N-yB-"
      }
    },
    {
      "cell_type": "code",
      "source": [
        "print(1 / 3 * 3.14 * 20 ** 2 * 30 )\n",
        "print(3.14 * 20 ** 2 + 3.14 * 20 * 30)"
      ],
      "metadata": {
        "colab": {
          "base_uri": "https://localhost:8080/"
        },
        "id": "up7V0rm48jQs",
        "outputId": "d177b81e-5800-49a1-d850-d3d4465e528e"
      },
      "execution_count": 2,
      "outputs": [
        {
          "output_type": "stream",
          "name": "stdout",
          "text": [
            "12559.999999999998\n",
            "3140.0\n"
          ]
        }
      ]
    },
    {
      "cell_type": "code",
      "source": [
        "radius = float(input(\"반지름을 입력하세요: \"))\n",
        "height = float(input(\"높이를 입력하세요: \"))\n",
        "volume = 1 / 3 * 3.14 * radius ** 2 * height\n",
        "surface_area = 3.14 * radius ** 2 + 3.14 * radius * height\n",
        "print(\"부피:\", volume)\n",
        "print(\"겉넓이:\", surface_area)"
      ],
      "metadata": {
        "colab": {
          "base_uri": "https://localhost:8080/"
        },
        "id": "avJvGS9q8mTC",
        "outputId": "cf161e8d-64f9-41ef-94e9-60e92723a036"
      },
      "execution_count": 3,
      "outputs": [
        {
          "output_type": "stream",
          "name": "stdout",
          "text": [
            "반지름을 입력하세요: 30\n",
            "높이를 입력하세요: 20\n",
            "부피: 18840.0\n",
            "겉넓이: 4710.0\n"
          ]
        }
      ]
    },
    {
      "cell_type": "code",
      "source": [
        "# 문제: 두 수의 합 구하기\n",
        "\n",
        "# 입력\n",
        "num1 = 5\n",
        "num2 = 10\n",
        "\n",
        "# 알고리즘\n",
        "result = num1 + num2\n",
        "\n",
        "# 출력\n",
        "print(\"두 수의 합은:\", result)"
      ],
      "metadata": {
        "colab": {
          "base_uri": "https://localhost:8080/"
        },
        "id": "NaXPVWMy_SlA",
        "outputId": "6e2d52f5-1963-4e94-bdeb-086d910126ad"
      },
      "execution_count": 21,
      "outputs": [
        {
          "output_type": "stream",
          "name": "stdout",
          "text": [
            "두 수의 합은: 15\n"
          ]
        }
      ]
    },
    {
      "cell_type": "code",
      "source": [
        "#반지름 사용자 입력\n",
        "rad = int(input(\"반지름을 입력하세요:\"))\n",
        "#높이 사용자 입력\n",
        "hei = int(input(\"높이를 입력하세요:\"))\n",
        "#부피&겉넓이 계산\n",
        "vol = 1/3 * 3.14 * rad ** 2 * hei\n",
        "suf = 3.14 * rad ** 2 + 3.14 * rad * hei\n",
        "print(\"원뿔의 부피는\" ,vol, \"입니다.\")\n",
        "print(\"원뿔의 겉넓이는\" ,suf, \"입니다\")"
      ],
      "metadata": {
        "colab": {
          "base_uri": "https://localhost:8080/"
        },
        "id": "-GGCLws9AoEE",
        "outputId": "76794215-b816-4ab1-f80e-3c00fe49d466"
      },
      "execution_count": 22,
      "outputs": [
        {
          "output_type": "stream",
          "name": "stdout",
          "text": [
            "반지름을 입력하세요:20\n",
            "높이를 입력하세요:30\n",
            "원뿔의 부피는 12559.999999999998 입니다.\n",
            "원뿔의 겉넓이는 3140.0 입니다\n"
          ]
        }
      ]
    },
    {
      "cell_type": "code",
      "source": [
        "def calculate_cone_volume(radius, height):\n",
        "    volume = 1 / 3 * 3.14 * radius ** 2 * height\n",
        "    return volume\n",
        "\n",
        "def calculate_cone_surface_area(radius, height):\n",
        "    surface_area = 3.14 * radius ** 2 + 3.14 * radius * height\n",
        "    return surface_area\n",
        "\n",
        "radius = 20\n",
        "height = 30\n",
        "volume = calculate_cone_volume(radius, height)\n",
        "surface_area = calculate_cone_surface_area(radius, height)\n",
        "print(\"부피:\", volume)\n",
        "print(\"겉넓이:\", surface_area)"
      ],
      "metadata": {
        "colab": {
          "base_uri": "https://localhost:8080/"
        },
        "id": "QzJDOeLZ8rfs",
        "outputId": "c190aaa6-d0c7-4962-d586-07c2d7667f4c"
      },
      "execution_count": 18,
      "outputs": [
        {
          "output_type": "stream",
          "name": "stdout",
          "text": [
            "부피: 12559.999999999998\n",
            "겉넓이: 3140.0\n"
          ]
        }
      ]
    },
    {
      "cell_type": "code",
      "source": [
        "def calculate_cone_volume(radius, height):\n",
        "    volume = 1 / 3 * 3.14 * radius ** 2 * height\n",
        "    return volume\n",
        "\n",
        "def calculate_cone_surface_area(radius, height):\n",
        "    surface_area = 3.14 * radius ** 2 + 3.14 * radius * height\n",
        "    return surface_area\n",
        "\n",
        "radius = 20\n",
        "height = 30\n",
        "volume = calculate_cone_volume(radius, height)\n",
        "surface_area = calculate_cone_surface_area(radius, height)\n",
        "print(\"부피:\", volume)\n",
        "print(\"겉넓이:\", surface_area)"
      ],
      "metadata": {
        "colab": {
          "base_uri": "https://localhost:8080/"
        },
        "id": "bgOwYqvb8ymr",
        "outputId": "577ff108-5d5a-4893-d329-36dc997109ba"
      },
      "execution_count": 5,
      "outputs": [
        {
          "output_type": "stream",
          "name": "stdout",
          "text": [
            "부피: 12559.999999999998\n",
            "겉넓이: 3140.0\n"
          ]
        }
      ]
    },
    {
      "cell_type": "code",
      "source": [
        "cones = [\n",
        "    {\"radius\": 10, \"height\": 20},\n",
        "    {\"radius\": 15, \"height\": 25},\n",
        "    {\"radius\": 12, \"height\": 18}\n",
        "]\n",
        "\n",
        "for cone in cones:\n",
        "    volume = 1 / 3 * 3.14 * cone[\"radius\"] ** 2 * cone[\"height\"]\n",
        "    surface_area = 3.14 * cone[\"radius\"] ** 2 + 3.14 * cone[\"radius\"] * cone[\"height\"]\n",
        "    print(\"원뿔의 부피:\", volume)\n",
        "    print(\"원뿔의 겉넓이:\", surface_area)\n",
        "    print()"
      ],
      "metadata": {
        "colab": {
          "base_uri": "https://localhost:8080/"
        },
        "id": "8Tqsvrvb811O",
        "outputId": "a9b27274-de34-401a-f273-4ca5d0f8304e"
      },
      "execution_count": 6,
      "outputs": [
        {
          "output_type": "stream",
          "name": "stdout",
          "text": [
            "원뿔의 부피: 2093.333333333333\n",
            "원뿔의 겉넓이: 942.0\n",
            "\n",
            "원뿔의 부피: 5887.5\n",
            "원뿔의 겉넓이: 1884.0\n",
            "\n",
            "원뿔의 부피: 2712.96\n",
            "원뿔의 겉넓이: 1130.4\n",
            "\n"
          ]
        }
      ]
    },
    {
      "cell_type": "code",
      "source": [
        "# 반복문을 사용하여 삼각형 출력\n",
        "for i in range(1, 9):\n",
        "    print(\"*\" * i)"
      ],
      "metadata": {
        "colab": {
          "base_uri": "https://localhost:8080/"
        },
        "id": "fpqk24Qx9EmB",
        "outputId": "8ba30a14-6f3f-4613-fc5a-e3b4ebdfd8c7"
      },
      "execution_count": 8,
      "outputs": [
        {
          "output_type": "stream",
          "name": "stdout",
          "text": [
            "*\n",
            "**\n",
            "***\n",
            "****\n",
            "*****\n",
            "******\n",
            "*******\n",
            "********\n"
          ]
        }
      ]
    },
    {
      "cell_type": "code",
      "source": [
        "#반지름, 높이 값 할당\n",
        "rad = 10\n",
        "hei = 20\n",
        "#부피 출력\n",
        "print(1 / 3 * 3.14 * rad ** 2 * hei )\n",
        "#겉넓이 출력\n",
        "print(3.14 * rad ** 2 + 3.14 * rad * hei)"
      ],
      "metadata": {
        "colab": {
          "base_uri": "https://localhost:8080/"
        },
        "id": "223WyCrC9cZp",
        "outputId": "9f976ed4-388a-42d4-ddab-56441e270279"
      },
      "execution_count": 17,
      "outputs": [
        {
          "output_type": "stream",
          "name": "stdout",
          "text": [
            "2093.333333333333\n",
            "942.0\n"
          ]
        }
      ]
    },
    {
      "cell_type": "code",
      "source": [
        "import math\n",
        "\n",
        "def calculate_cone_volume(radius, height):\n",
        "    volume = (1/3) * math.pi * radius ** 2 * height\n",
        "    return volume\n",
        "\n",
        "def calculate_cone_surface_area(radius, height):\n",
        "    surface_area = math.pi * radius * (radius + math.sqrt(radius ** 2 + height ** 2))\n",
        "    return surface_area\n",
        "\n",
        "# 반지름과 높이 입력 받기\n",
        "radius = float(input(\"반지름을 입력하세요: \"))\n",
        "height = float(input(\"높이를 입력하세요: \"))\n",
        "\n",
        "# 부피 계산\n",
        "volume = calculate_cone_volume(radius, height)\n",
        "print(\"원뿔의 부피는:\", volume)\n",
        "\n",
        "# 겉넓이 계산\n",
        "surface_area = calculate_cone_surface_area(radius, height)\n",
        "print(\"원뿔의 겉넓이는:\", surface_area)"
      ],
      "metadata": {
        "colab": {
          "base_uri": "https://localhost:8080/"
        },
        "id": "gWmchinz9-Im",
        "outputId": "ec3f2c07-d575-47c1-d321-8fda6996540d"
      },
      "execution_count": 10,
      "outputs": [
        {
          "output_type": "stream",
          "name": "stdout",
          "text": [
            "반지름을 입력하세요: 30\n",
            "높이를 입력하세요: 20\n",
            "원뿔의 부피는: 18849.55592153876\n",
            "원뿔의 겉넓이는: 6225.585407972507\n"
          ]
        }
      ]
    },
    {
      "cell_type": "code",
      "source": [
        "#반지름 사용자 입력\n",
        "rad = int(input(\"반지름을 입력하세요:\"))\n",
        "#높이 사용자 입력\n",
        "hei = int(input(\"높이를 입력하세요:\"))\n",
        "#부피&겉넓이 계산\n",
        "vol = 1/3 * 3.14 * rad ** 2 * hei\n",
        "suf = 3.14 * rad ** 2 + 3.14 * rad * hei\n",
        "print(\"원뿔의 부피는\" ,vol, \"입니다.\")\n",
        "print(\"원뿔의 겉넓이는\" ,suf, \"입니다\")"
      ],
      "metadata": {
        "colab": {
          "base_uri": "https://localhost:8080/"
        },
        "id": "ehAxnVqA-Gz-",
        "outputId": "00d6a31a-ec13-46c7-8102-392cc90c021f"
      },
      "execution_count": 11,
      "outputs": [
        {
          "output_type": "stream",
          "name": "stdout",
          "text": [
            "반지름을 입력하세요:30\n",
            "높이를 입력하세요:20\n",
            "원뿔의 부피는 18840.0 입니다.\n",
            "원뿔의 겉넓이는 4710.0 입니다\n"
          ]
        }
      ]
    },
    {
      "cell_type": "code",
      "source": [
        "import math\n",
        "\n",
        "# 반지름 사용자 입력\n",
        "radius = float(input(\"반지름을 입력하세요: \"))\n",
        "# 높이 사용자 입력\n",
        "height = float(input(\"높이를 입력하세요: \"))\n",
        "\n",
        "# 부피 계산\n",
        "volume = (1 / 3) * math.pi * radius ** 2 * height\n",
        "# 겉넓이 계산\n",
        "surface_area = math.pi * radius * (radius + math.sqrt(radius ** 2 + height ** 2))\n",
        "\n",
        "# 결과 출력\n",
        "print(\"원뿔의 부피는\", volume, \"입니다.\")\n",
        "print(\"원뿔의 겉넓이는\", surface_area, \"입니다.\")"
      ],
      "metadata": {
        "colab": {
          "base_uri": "https://localhost:8080/"
        },
        "id": "yyPI6HrC-Ths",
        "outputId": "a1d79a95-a4ae-4bca-e201-c9400b658725"
      },
      "execution_count": 12,
      "outputs": [
        {
          "output_type": "stream",
          "name": "stdout",
          "text": [
            "반지름을 입력하세요: 10\n",
            "높이를 입력하세요: 20\n",
            "원뿔의 부피는 2094.3951023931954 입니다.\n",
            "원뿔의 겉넓이는 1016.640738463052 입니다.\n"
          ]
        }
      ]
    }
  ]
}